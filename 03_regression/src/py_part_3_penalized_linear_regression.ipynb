{
 "cells": [
  {
   "cell_type": "markdown",
   "metadata": {},
   "source": [
    "# License \n",
    "***\n",
    "Copyright (C) 2017 J. Patrick Hall, jphall@gwu.edu\n",
    "\n",
    "Permission is hereby granted, free of charge, to any person obtaining a copy of this software and associated documentation files (the \"Software\"), to deal in the Software without restriction, including without limitation the rights to use, copy, modify, merge, publish, distribute, sublicense, and/or sell copies of the Software, and to permit persons to whom the Software is furnished to do so, subject to the following conditions:\n",
    "\n",
    "The above copyright notice and this permission notice shall be included in all copies or substantial portions of the Software.\n",
    "\n",
    "THE SOFTWARE IS PROVIDED \"AS IS\", WITHOUT WARRANTY OF ANY KIND, EXPRESS OR IMPLIED, INCLUDING BUT NOT LIMITED TO THE WARRANTIES OF MERCHANTABILITY, FITNESS FOR A PARTICULAR PURPOSE AND NONINFRINGEMENT. IN NO EVENT SHALL THE AUTHORS OR COPYRIGHT HOLDERS BE LIABLE FOR ANY CLAIM, DAMAGES OR OTHER LIABILITY, WHETHER IN AN ACTION OF CONTRACT, TORT OR OTHERWISE, ARISING FROM, OUT OF OR IN CONNECTION WITH THE SOFTWARE OR THE USE OR OTHER DEALINGS IN THE SOFTWARE."
   ]
  },
  {
   "cell_type": "code",
   "execution_count": 1,
   "metadata": {},
   "outputs": [],
   "source": [
    "import h2o\n",
    "from h2o.estimators.glm import H2OGeneralizedLinearEstimator\n",
    "\n",
    "import operator"
   ]
  },
  {
   "cell_type": "code",
   "execution_count": 2,
   "metadata": {},
   "outputs": [
    {
     "name": "stdout",
     "output_type": "stream",
     "text": [
      "Checking whether there is an H2O instance running at http://localhost:54321..... not found.\n",
      "Attempting to start a local H2O server...\n",
      "  Java Version: java version \"1.8.0_201\"; Java(TM) SE Runtime Environment (build 1.8.0_201-b09); Java HotSpot(TM) 64-Bit Server VM (build 25.201-b09, mixed mode)\n",
      "  Starting server from /home/patrickh/anaconda3/lib/python3.6/site-packages/h2o/backend/bin/h2o.jar\n",
      "  Ice root: /tmp/tmpioaeowke\n",
      "  JVM stdout: /tmp/tmpioaeowke/h2o_patrickh_started_from_python.out\n",
      "  JVM stderr: /tmp/tmpioaeowke/h2o_patrickh_started_from_python.err\n",
      "  Server is running at http://127.0.0.1:54321\n",
      "Connecting to H2O server at http://127.0.0.1:54321... successful.\n"
     ]
    },
    {
     "data": {
      "text/html": [
       "<div style=\"overflow:auto\"><table style=\"width:50%\"><tr><td>H2O cluster uptime:</td>\n",
       "<td>01 secs</td></tr>\n",
       "<tr><td>H2O cluster timezone:</td>\n",
       "<td>America/New_York</td></tr>\n",
       "<tr><td>H2O data parsing timezone:</td>\n",
       "<td>UTC</td></tr>\n",
       "<tr><td>H2O cluster version:</td>\n",
       "<td>3.22.0.2</td></tr>\n",
       "<tr><td>H2O cluster version age:</td>\n",
       "<td>2 months and 16 days </td></tr>\n",
       "<tr><td>H2O cluster name:</td>\n",
       "<td>H2O_from_python_patrickh_98qebb</td></tr>\n",
       "<tr><td>H2O cluster total nodes:</td>\n",
       "<td>1</td></tr>\n",
       "<tr><td>H2O cluster free memory:</td>\n",
       "<td>3.422 Gb</td></tr>\n",
       "<tr><td>H2O cluster total cores:</td>\n",
       "<td>8</td></tr>\n",
       "<tr><td>H2O cluster allowed cores:</td>\n",
       "<td>8</td></tr>\n",
       "<tr><td>H2O cluster status:</td>\n",
       "<td>accepting new members, healthy</td></tr>\n",
       "<tr><td>H2O connection url:</td>\n",
       "<td>http://127.0.0.1:54321</td></tr>\n",
       "<tr><td>H2O connection proxy:</td>\n",
       "<td>None</td></tr>\n",
       "<tr><td>H2O internal security:</td>\n",
       "<td>False</td></tr>\n",
       "<tr><td>H2O API Extensions:</td>\n",
       "<td>XGBoost, Algos, MLI, MLI-Driver, AutoML, Core V3, Core V4</td></tr>\n",
       "<tr><td>Python version:</td>\n",
       "<td>3.6.4 final</td></tr></table></div>"
      ],
      "text/plain": [
       "--------------------------  ---------------------------------------------------------\n",
       "H2O cluster uptime:         01 secs\n",
       "H2O cluster timezone:       America/New_York\n",
       "H2O data parsing timezone:  UTC\n",
       "H2O cluster version:        3.22.0.2\n",
       "H2O cluster version age:    2 months and 16 days\n",
       "H2O cluster name:           H2O_from_python_patrickh_98qebb\n",
       "H2O cluster total nodes:    1\n",
       "H2O cluster free memory:    3.422 Gb\n",
       "H2O cluster total cores:    8\n",
       "H2O cluster allowed cores:  8\n",
       "H2O cluster status:         accepting new members, healthy\n",
       "H2O connection url:         http://127.0.0.1:54321\n",
       "H2O connection proxy:\n",
       "H2O internal security:      False\n",
       "H2O API Extensions:         XGBoost, Algos, MLI, MLI-Driver, AutoML, Core V3, Core V4\n",
       "Python version:             3.6.4 final\n",
       "--------------------------  ---------------------------------------------------------"
      ]
     },
     "metadata": {},
     "output_type": "display_data"
    }
   ],
   "source": [
    "h2o.init()"
   ]
  },
  {
   "cell_type": "code",
   "execution_count": 3,
   "metadata": {},
   "outputs": [],
   "source": [
    "# location of clean file\n",
    "path = '../data/loan_clean.csv'"
   ]
  },
  {
   "cell_type": "code",
   "execution_count": 4,
   "metadata": {},
   "outputs": [],
   "source": [
    "# define input variable measurement levels \n",
    "# strings automatically parsed as enums (nominal)\n",
    "# numbers automatically parsed as numeric\n",
    "col_types = {'bad_loan': 'enum'}"
   ]
  },
  {
   "cell_type": "code",
   "execution_count": 5,
   "metadata": {},
   "outputs": [
    {
     "name": "stdout",
     "output_type": "stream",
     "text": [
      "Parse progress: |█████████████████████████████████████████████████████████| 100%\n"
     ]
    }
   ],
   "source": [
    "frame = h2o.import_file(path=path, col_types=col_types) # multi-threaded import"
   ]
  },
  {
   "cell_type": "code",
   "execution_count": 6,
   "metadata": {},
   "outputs": [
    {
     "name": "stdout",
     "output_type": "stream",
     "text": [
      "Rows:163987\n",
      "Cols:18\n",
      "\n",
      "\n"
     ]
    },
    {
     "data": {
      "text/html": [
       "<table>\n",
       "<thead>\n",
       "<tr><th>       </th><th>id               </th><th>bad_loan  </th><th>GRP_REP_home_ownership  </th><th>GRP_addr_state    </th><th>GRP_home_ownership  </th><th>GRP_purpose       </th><th>GRP_verification_status  </th><th>_WARN_  </th><th>STD_IMP_REP_annual_inc  </th><th>STD_IMP_REP_delinq_2yrs  </th><th>STD_IMP_REP_dti      </th><th>STD_IMP_REP_emp_length  </th><th>STD_IMP_REP_int_rate  </th><th>STD_IMP_REP_loan_amnt  </th><th>STD_IMP_REP_longest_credit_lengt  </th><th>STD_IMP_REP_revol_util  </th><th>STD_IMP_REP_term_length  </th><th>STD_IMP_REP_total_acc  </th></tr>\n",
       "</thead>\n",
       "<tbody>\n",
       "<tr><td>type   </td><td>int              </td><td>enum      </td><td>int                     </td><td>int               </td><td>int                 </td><td>int               </td><td>int                      </td><td>int     </td><td>real                    </td><td>real                     </td><td>real                 </td><td>real                    </td><td>real                  </td><td>real                   </td><td>real                              </td><td>real                    </td><td>real                     </td><td>real                   </td></tr>\n",
       "<tr><td>mins   </td><td>10001.0          </td><td>          </td><td>1.0                     </td><td>1.0               </td><td>1.0                 </td><td>1.0               </td><td>1.0                      </td><td>NaN     </td><td>-1.767455639            </td><td>-0.39219617              </td><td>-2.119639396         </td><td>-1.621390274            </td><td>-1.907046215          </td><td>-1.587129405           </td><td>-2.22445124                       </td><td>-2.164541326            </td><td>-0.516495577             </td><td>-2.058861889           </td></tr>\n",
       "<tr><td>mean   </td><td>91994.0          </td><td>          </td><td>2.5740028172964924      </td><td>11.409337325519703</td><td>2.5740028172964924  </td><td>3.2449401476946345</td><td>2.340356247751345        </td><td>0.0     </td><td>2.3874453607496453e-11  </td><td>2.295921310568427e-12    </td><td>6.807013811211564e-11</td><td>-3.5668651031696166e-11 </td><td>-8.948739700514272e-12</td><td>8.311929243557815e-11  </td><td>5.0612534090153816e-11            </td><td>-1.473412253405173e-11  </td><td>-1.5009542966560638e-10  </td><td>8.061035779006034e-13  </td></tr>\n",
       "<tr><td>maxs   </td><td>173987.0         </td><td>          </td><td>5.0                     </td><td>37.0              </td><td>5.0                 </td><td>14.0              </td><td>3.0                      </td><td>NaN     </td><td>4.6180619798            </td><td>4.1566950661             </td><td>3.037148727          </td><td>1.2288169612            </td><td>2.8376799992          </td><td>2.7671323946           </td><td>3.1431598296                      </td><td>3.0363495275            </td><td>1.9718787627             </td><td>3.0684672884           </td></tr>\n",
       "<tr><td>sigma  </td><td>47339.11363414683</td><td>          </td><td>0.6675260435449262      </td><td>9.971926133461404 </td><td>0.6675260435449262  </td><td>2.2672892075259754</td><td>0.5040864341768772       </td><td>-0.0    </td><td>0.9999999999982868      </td><td>0.9999999999212518       </td><td>1.0000000000037712   </td><td>1.0000000000339833      </td><td>1.0000000000199503    </td><td>0.999999999985285      </td><td>0.9999999999850594                </td><td>1.000000000017688       </td><td>1.0000000000642086       </td><td>1.000000000033184      </td></tr>\n",
       "<tr><td>zeros  </td><td>0                </td><td>          </td><td>0                       </td><td>0                 </td><td>0                   </td><td>0                 </td><td>0                        </td><td>0       </td><td>0                       </td><td>0                        </td><td>0                    </td><td>0                       </td><td>0                     </td><td>0                      </td><td>0                                 </td><td>0                       </td><td>0                        </td><td>0                      </td></tr>\n",
       "<tr><td>missing</td><td>0                </td><td>0         </td><td>0                       </td><td>0                 </td><td>0                   </td><td>0                 </td><td>0                        </td><td>163987  </td><td>0                       </td><td>0                        </td><td>0                    </td><td>0                       </td><td>0                     </td><td>0                      </td><td>0                                 </td><td>0                       </td><td>0                        </td><td>0                      </td></tr>\n",
       "<tr><td>0      </td><td>10001.0          </td><td>0         </td><td>3.0                     </td><td>14.0              </td><td>3.0                 </td><td>3.0               </td><td>2.0                      </td><td>nan     </td><td>-1.199299502            </td><td>-0.39219617              </td><td>1.5712460425         </td><td>1.2288169612            </td><td>-0.704773051          </td><td>-1.019182214           </td><td>1.683902485                       </td><td>1.1858716502            </td><td>-0.516495577             </td><td>-1.359278248           </td></tr>\n",
       "<tr><td>1      </td><td>10002.0          </td><td>1         </td><td>3.0                     </td><td>10.0              </td><td>3.0                 </td><td>8.0               </td><td>2.0                      </td><td>nan     </td><td>-1.04507688             </td><td>-0.39219617              </td><td>-1.986153485         </td><td>-1.621390274            </td><td>0.3572732234          </td><td>-1.334708431           </td><td>-0.420595674                      </td><td>-1.788270335            </td><td>1.9718787627             </td><td>-1.796518023           </td></tr>\n",
       "<tr><td>2      </td><td>10003.0          </td><td>0         </td><td>3.0                     </td><td>7.0               </td><td>3.0                 </td><td>7.0               </td><td>3.0                      </td><td>nan     </td><td>-1.501267394            </td><td>-0.39219617              </td><td>-0.955642252         </td><td>1.2288169612            </td><td>0.5158905241          </td><td>-1.34732948            </td><td>-0.721238269                      </td><td>1.7782983174            </td><td>-0.516495577             </td><td>-1.271830292           </td></tr>\n",
       "<tr><td>3      </td><td>10004.0          </td><td>0         </td><td>3.0                     </td><td>2.0               </td><td>3.0                 </td><td>4.0               </td><td>2.0                      </td><td>nan     </td><td>-0.303921333            </td><td>-0.39219617              </td><td>0.5500788236         </td><td>1.2288169612            </td><td>-0.051913437          </td><td>-0.388129779           </td><td>0.0303682169                      </td><td>0.0325652593            </td><td>-0.516495577             </td><td>1.089264497            </td></tr>\n",
       "<tr><td>4      </td><td>10005.0          </td><td>0         </td><td>3.0                     </td><td>14.0              </td><td>3.0                 </td><td>10.0              </td><td>2.0                      </td><td>nan     </td><td>-0.890854259            </td><td>-0.39219617              </td><td>-0.624597193         </td><td>-0.766328103            </td><td>-1.336943453          </td><td>-1.019182214           </td><td>-0.822026269                      </td><td>-1.031725469            </td><td>-0.516495577             </td><td>-1.096934382           </td></tr>\n",
       "<tr><td>5      </td><td>10006.0          </td><td>0         </td><td>3.0                     </td><td>2.0               </td><td>3.0                 </td><td>8.0               </td><td>2.0                      </td><td>nan     </td><td>-0.582409016            </td><td>-0.39219617              </td><td>-1.405489772         </td><td>0.9437962377            </td><td>1.1319693155          </td><td>-1.271603188           </td><td>-1.623166051                      </td><td>1.3379811999            </td><td>-0.516495577             </td><td>-1.796518023           </td></tr>\n",
       "<tr><td>6      </td><td>10007.0          </td><td>1         </td><td>4.0                     </td><td>2.0               </td><td>4.0                 </td><td>7.0               </td><td>2.0                      </td><td>nan     </td><td>-0.788039178            </td><td>-0.39219617              </td><td>-1.37879259          </td><td>-0.48130738             </td><td>1.7388529011          </td><td>-0.943455922           </td><td>-1.17220216                       </td><td>-0.859601505            </td><td>1.9718787627             </td><td>-1.009486427           </td></tr>\n",
       "<tr><td>7      </td><td>10008.0          </td><td>1         </td><td>3.0                     </td><td>4.0               </td><td>3.0                 </td><td>4.0               </td><td>2.0                      </td><td>nan     </td><td>-1.430633434            </td><td>-0.39219617              </td><td>0.2937858745         </td><td>-1.621390274            </td><td>-0.235817553          </td><td>-0.971853281           </td><td>-1.17220216                       </td><td>-0.703489072            </td><td>1.9718787627             </td><td>-1.883965979           </td></tr>\n",
       "<tr><td>8      </td><td>10009.0          </td><td>0         </td><td>4.0                     </td><td>14.0              </td><td>4.0                 </td><td>2.0               </td><td>3.0                      </td><td>nan     </td><td>0.0344814697            </td><td>-0.39219617              </td><td>0.032153489          </td><td>-0.196286656            </td><td>0.2147475328          </td><td>-0.829866484           </td><td>-0.270274377                      </td><td>-1.339947451            </td><td>1.9718787627             </td><td>-0.135006875           </td></tr>\n",
       "<tr><td>9      </td><td>10010.0          </td><td>0         </td><td>4.0                     </td><td>2.0               </td><td>4.0                 </td><td>2.0               </td><td>2.0                      </td><td>nan     </td><td>0.1115927805            </td><td>-0.39219617              </td><td>-0.680661276         </td><td>1.2288169612            </td><td>-0.235817553          </td><td>-0.135708805           </td><td>1.0826172966                      </td><td>0.521393091             </td><td>-0.516495577             </td><td>0.8269206315           </td></tr>\n",
       "</tbody>\n",
       "</table>"
      ]
     },
     "metadata": {},
     "output_type": "display_data"
    }
   ],
   "source": [
    "frame.describe()"
   ]
  },
  {
   "cell_type": "code",
   "execution_count": 7,
   "metadata": {},
   "outputs": [],
   "source": [
    "# split into training, validation and test\n",
    "train, test = frame.split_frame([0.7])"
   ]
  },
  {
   "cell_type": "code",
   "execution_count": 8,
   "metadata": {},
   "outputs": [],
   "source": [
    "# assign target and inputs for linear regression\n",
    "y = 'STD_IMP_REP_loan_amnt'\n",
    "X = [name for name in frame.columns if name not in ['id', '_WARN_', y]]"
   ]
  },
  {
   "cell_type": "code",
   "execution_count": 9,
   "metadata": {},
   "outputs": [
    {
     "name": "stdout",
     "output_type": "stream",
     "text": [
      "STD_IMP_REP_loan_amnt\n",
      "['bad_loan', 'GRP_REP_home_ownership', 'GRP_addr_state', 'GRP_home_ownership', 'GRP_purpose', 'GRP_verification_status', 'STD_IMP_REP_annual_inc', 'STD_IMP_REP_delinq_2yrs', 'STD_IMP_REP_dti', 'STD_IMP_REP_emp_length', 'STD_IMP_REP_int_rate', 'STD_IMP_REP_longest_credit_lengt', 'STD_IMP_REP_revol_util', 'STD_IMP_REP_term_length', 'STD_IMP_REP_total_acc']\n"
     ]
    }
   ],
   "source": [
    "print(y)\n",
    "print(X)"
   ]
  },
  {
   "cell_type": "code",
   "execution_count": 10,
   "metadata": {},
   "outputs": [
    {
     "name": "stdout",
     "output_type": "stream",
     "text": [
      "glm Model Build progress: |███████████████████████████████████████████████| 100%\n",
      "\n",
      "ModelMetricsRegressionGLM: glm\n",
      "** Reported on train data. **\n",
      "\n",
      "MSE: 0.5931368184742174\n",
      "RMSE: 0.7701537628773993\n",
      "MAE: 0.5956793449873514\n",
      "RMSLE: NaN\n",
      "R^2: 0.4084032317636015\n",
      "Mean Residual Deviance: 0.5931368184742174\n",
      "Null degrees of freedom: 114820\n",
      "Residual degrees of freedom: 114804\n",
      "Null deviance: 115119.90310064619\n",
      "Residual deviance: 68104.56263402812\n",
      "AIC: 265909.40858015395\n"
     ]
    },
    {
     "data": {
      "text/plain": []
     },
     "execution_count": 10,
     "metadata": {},
     "output_type": "execute_result"
    }
   ],
   "source": [
    "# elastic net regularized regression \n",
    "#   - Gaussian family, i.e. squared loss, for linear regression\n",
    "#   - L1 for variable selection\n",
    "#   - L2 for handling multicollinearity\n",
    "#   - IRLS for handling outliers\n",
    "#   - with lamba parameter tuning for variable selection\n",
    "\n",
    "# initialize\n",
    "loan_glm = H2OGeneralizedLinearEstimator(family='gaussian',\n",
    "                                         model_id='loan_glm1',\n",
    "                                         solver='IRLSM',\n",
    "                                         standardize=True,\n",
    "                                         lambda_search=True)\n",
    "\n",
    "# train \n",
    "loan_glm.train(X, y, training_frame=train)\n",
    "\n",
    "# print trained model info\n",
    "loan_glm.model_performance()\n",
    "\n",
    "# view detailed results at http://host:ip/flow/index.html"
   ]
  },
  {
   "cell_type": "code",
   "execution_count": 11,
   "metadata": {},
   "outputs": [
    {
     "data": {
      "text/plain": [
       "4.3542617996"
      ]
     },
     "execution_count": 11,
     "metadata": {},
     "output_type": "execute_result"
    }
   ],
   "source": [
    "# range of target\n",
    "test[y].max() - test[y].min()"
   ]
  },
  {
   "cell_type": "code",
   "execution_count": 12,
   "metadata": {},
   "outputs": [
    {
     "name": "stdout",
     "output_type": "stream",
     "text": [
      "0.7701537628773993\n",
      "0.7653476862419313\n"
     ]
    }
   ],
   "source": [
    "# measure train and test MSE\n",
    "print(loan_glm.rmse(train=True))\n",
    "print(loan_glm.model_performance(test_data=test).rmse())"
   ]
  },
  {
   "cell_type": "code",
   "execution_count": 13,
   "metadata": {},
   "outputs": [
    {
     "name": "stdout",
     "output_type": "stream",
     "text": [
      "GRP_verification_status :  -0.3123706947972687\n",
      "GRP_purpose :  -0.05521562033167105\n",
      "STD_IMP_REP_delinq_2yrs :  -0.036637777467456015\n",
      "bad_loan.0 :  -0.0170009822557311\n",
      "GRP_home_ownership :  -0.012845623138055633\n",
      "GRP_REP_home_ownership :  -0.012845623138052533\n",
      "GRP_addr_state :  -0.00021768833267589687\n",
      "STD_IMP_REP_revol_util :  -5.7935332662382646e-05\n",
      "bad_loan.1 :  0.01700491518235263\n",
      "STD_IMP_REP_emp_length :  0.02444757417874919\n",
      "STD_IMP_REP_total_acc :  0.031125864841989044\n",
      "STD_IMP_REP_longest_credit_lengt :  0.034619435692922036\n",
      "STD_IMP_REP_dti :  0.05680212025972718\n",
      "STD_IMP_REP_int_rate :  0.06870922147433967\n",
      "STD_IMP_REP_term_length :  0.27328976276834305\n",
      "STD_IMP_REP_annual_inc :  0.3919183032955053\n",
      "Intercept :  0.9909562551014716\n"
     ]
    }
   ],
   "source": [
    "# print non-zero model parameters\n",
    "for name, val in sorted(loan_glm.coef().items(), key=operator.itemgetter(1)):  \n",
    "    if val != 0.0:\n",
    "        print(name, ': ', val)"
   ]
  },
  {
   "cell_type": "code",
   "execution_count": 14,
   "metadata": {},
   "outputs": [
    {
     "name": "stdout",
     "output_type": "stream",
     "text": [
      "glm prediction progress: |████████████████████████████████████████████████| 100%\n"
     ]
    },
    {
     "data": {
      "text/html": [
       "<table>\n",
       "<thead>\n",
       "<tr><th style=\"text-align: right;\">  STD_IMP_REP_loan_amnt</th><th style=\"text-align: right;\">  predict</th></tr>\n",
       "</thead>\n",
       "<tbody>\n",
       "<tr><td style=\"text-align: right;\">              -1.34733 </td><td style=\"text-align: right;\">-1.19687 </td></tr>\n",
       "<tr><td style=\"text-align: right;\">              -1.01918 </td><td style=\"text-align: right;\">-0.967605</td></tr>\n",
       "<tr><td style=\"text-align: right;\">              -1.2716  </td><td style=\"text-align: right;\">-0.758736</td></tr>\n",
       "<tr><td style=\"text-align: right;\">              -1.52402 </td><td style=\"text-align: right;\">-0.737375</td></tr>\n",
       "<tr><td style=\"text-align: right;\">              -0.38813 </td><td style=\"text-align: right;\">-0.698802</td></tr>\n",
       "<tr><td style=\"text-align: right;\">              -1.19588 </td><td style=\"text-align: right;\">-0.151086</td></tr>\n",
       "<tr><td style=\"text-align: right;\">              -0.892972</td><td style=\"text-align: right;\">-0.396209</td></tr>\n",
       "<tr><td style=\"text-align: right;\">               1.00019 </td><td style=\"text-align: right;\"> 0.508449</td></tr>\n",
       "<tr><td style=\"text-align: right;\">              -0.38813 </td><td style=\"text-align: right;\">-0.577476</td></tr>\n",
       "<tr><td style=\"text-align: right;\">               0.242923</td><td style=\"text-align: right;\"> 0.223181</td></tr>\n",
       "</tbody>\n",
       "</table>"
      ]
     },
     "metadata": {},
     "output_type": "display_data"
    },
    {
     "name": "stdout",
     "output_type": "stream",
     "text": [
      "\n"
     ]
    },
    {
     "data": {
      "image/png": "[encoded data removed]",
      "text/plain": [
       "<Figure size 432x288 with 1 Axes>"
      ]
     },
     "metadata": {},
     "output_type": "display_data"
    }
   ],
   "source": [
    "# plot top frame values\n",
    "yhat_frame = test.cbind(loan_glm.predict(test))\n",
    "print(yhat_frame[0:10, [y, 'predict']])\n",
    "\n",
    "# plot sorted predictions\n",
    "%matplotlib inline\n",
    "yhat_frame_df = yhat_frame[[y, 'predict']].as_data_frame()\n",
    "yhat_frame_df.sort_values(by=y, inplace=True)\n",
    "yhat_frame_df.reset_index(inplace=True, drop=True)\n",
    "ax = yhat_frame_df.plot(title='Ranked Predictions Plot', y='predict')\n",
    "_ = yhat_frame_df.plot(y=y, ax=ax)"
   ]
  },
  {
   "cell_type": "code",
   "execution_count": 15,
   "metadata": {},
   "outputs": [
    {
     "name": "stdout",
     "output_type": "stream",
     "text": [
      "Are you sure you want to shutdown the H2O instance running at http://127.0.0.1:54321 (Y/N)? y\n",
      "H2O session _sid_803a closed.\n"
     ]
    }
   ],
   "source": [
    "h2o.cluster().shutdown(prompt=True)"
   ]
  }
 ],
 "metadata": {
  "anaconda-cloud": {},
  "kernelspec": {
   "display_name": "Python 3",
   "language": "python",
   "name": "python3"
  },
  "language_info": {
   "codemirror_mode": {
    "name": "ipython",
    "version": 3
   },
   "file_extension": ".py",
   "mimetype": "text/x-python",
   "name": "python",
   "nbconvert_exporter": "python",
   "pygments_lexer": "ipython3",
   "version": "3.6.4"
  }
 },
 "nbformat": 4,
 "nbformat_minor": 2
}
