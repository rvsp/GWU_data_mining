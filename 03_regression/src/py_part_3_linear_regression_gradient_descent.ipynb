{
 "cells": [
  {
   "cell_type": "markdown",
   "metadata": {},
   "source": [
    "# License \n",
    "***\n",
    "Copyright (C) 2017 J. Patrick Hall, jphall@gwu.edu\n",
    "\n",
    "Permission is hereby granted, free of charge, to any person obtaining a copy of this software and associated documentation files (the \"Software\"), to deal in the Software without restriction, including without limitation the rights to use, copy, modify, merge, publish, distribute, sublicense, and/or sell copies of the Software, and to permit persons to whom the Software is furnished to do so, subject to the following conditions:\n",
    "\n",
    "The above copyright notice and this permission notice shall be included in all copies or substantial portions of the Software.\n",
    "\n",
    "THE SOFTWARE IS PROVIDED \"AS IS\", WITHOUT WARRANTY OF ANY KIND, EXPRESS OR IMPLIED, INCLUDING BUT NOT LIMITED TO THE WARRANTIES OF MERCHANTABILITY, FITNESS FOR A PARTICULAR PURPOSE AND NONINFRINGEMENT. IN NO EVENT SHALL THE AUTHORS OR COPYRIGHT HOLDERS BE LIABLE FOR ANY CLAIM, DAMAGES OR OTHER LIABILITY, WHETHER IN AN ACTION OF CONTRACT, TORT OR OTHERWISE, ARISING FROM, OUT OF OR IN CONNECTION WITH THE SOFTWARE OR THE USE OR OTHER DEALINGS IN THE SOFTWARE."
   ]
  },
  {
   "cell_type": "markdown",
   "metadata": {},
   "source": [
    "***\n",
    "# **Basic** Gradient Descent for Multiple Linear Regression"
   ]
  },
  {
   "cell_type": "code",
   "execution_count": 1,
   "metadata": {},
   "outputs": [],
   "source": [
    "# imports \n",
    "import pandas as pd # import pandas for easy data manipulation using data frames\n",
    "import numpy as np  # import numpy for numeric calculations on matrices\n",
    "import time         # for timers\n",
    "\n",
    "# import h2o to check calculations\n",
    "import h2o\n",
    "from h2o.estimators.glm import H2OGeneralizedLinearEstimator"
   ]
  },
  {
   "cell_type": "markdown",
   "metadata": {},
   "source": [
    "#### Assign global constants"
   ]
  },
  {
   "cell_type": "code",
   "execution_count": 2,
   "metadata": {},
   "outputs": [],
   "source": [
    "# data-related constants\n",
    "IN_FILE_PATH = '../data/loan_clean.csv'\n",
    "Y            = 'STD_IMP_REP_loan_amnt'\n",
    "DROPS        = ['id', 'GRP_REP_home_ownership', 'GRP_addr_state', 'GRP_home_ownership',\n",
    "                'GRP_purpose', 'GRP_verification_status', '_WARN_']\n",
    "\n",
    "# model-related constants\n",
    "LEARN_RATE   = 0.05 # how much each gradient descent step impacts parameters\n",
    "CONV         = 1e-10 # desired precision in parameters \n",
    "MAX_ITERS    = 10000 # maximum number of gradient descent steps to allow"
   ]
  },
  {
   "cell_type": "markdown",
   "metadata": {},
   "source": [
    "### Import clean data and convert to numpy matrices"
   ]
  },
  {
   "cell_type": "code",
   "execution_count": 3,
   "metadata": {},
   "outputs": [
    {
     "data": {
      "text/html": [
       "<div>\n",
       "<style scoped>\n",
       "    .dataframe tbody tr th:only-of-type {\n",
       "        vertical-align: middle;\n",
       "    }\n",
       "\n",
       "    .dataframe tbody tr th {\n",
       "        vertical-align: top;\n",
       "    }\n",
       "\n",
       "    .dataframe thead th {\n",
       "        text-align: right;\n",
       "    }\n",
       "</style>\n",
       "<table border=\"1\" class=\"dataframe\">\n",
       "  <thead>\n",
       "    <tr style=\"text-align: right;\">\n",
       "      <th></th>\n",
       "      <th>id</th>\n",
       "      <th>bad_loan</th>\n",
       "      <th>GRP_REP_home_ownership</th>\n",
       "      <th>GRP_addr_state</th>\n",
       "      <th>GRP_home_ownership</th>\n",
       "      <th>GRP_purpose</th>\n",
       "      <th>GRP_verification_status</th>\n",
       "      <th>_WARN_</th>\n",
       "      <th>STD_IMP_REP_annual_inc</th>\n",
       "      <th>STD_IMP_REP_delinq_2yrs</th>\n",
       "      <th>STD_IMP_REP_dti</th>\n",
       "      <th>STD_IMP_REP_emp_length</th>\n",
       "      <th>STD_IMP_REP_int_rate</th>\n",
       "      <th>STD_IMP_REP_loan_amnt</th>\n",
       "      <th>STD_IMP_REP_longest_credit_lengt</th>\n",
       "      <th>STD_IMP_REP_revol_util</th>\n",
       "      <th>STD_IMP_REP_term_length</th>\n",
       "      <th>STD_IMP_REP_total_acc</th>\n",
       "    </tr>\n",
       "  </thead>\n",
       "  <tbody>\n",
       "    <tr>\n",
       "      <th>count</th>\n",
       "      <td>163987.000000</td>\n",
       "      <td>163987.000000</td>\n",
       "      <td>163987.000000</td>\n",
       "      <td>163987.000000</td>\n",
       "      <td>163987.000000</td>\n",
       "      <td>163987.000000</td>\n",
       "      <td>163987.000000</td>\n",
       "      <td>0.0</td>\n",
       "      <td>1.639870e+05</td>\n",
       "      <td>1.639870e+05</td>\n",
       "      <td>1.639870e+05</td>\n",
       "      <td>1.639870e+05</td>\n",
       "      <td>1.639870e+05</td>\n",
       "      <td>1.639870e+05</td>\n",
       "      <td>1.639870e+05</td>\n",
       "      <td>1.639870e+05</td>\n",
       "      <td>1.639870e+05</td>\n",
       "      <td>1.639870e+05</td>\n",
       "    </tr>\n",
       "    <tr>\n",
       "      <th>mean</th>\n",
       "      <td>91994.000000</td>\n",
       "      <td>0.192595</td>\n",
       "      <td>2.574003</td>\n",
       "      <td>11.409337</td>\n",
       "      <td>2.574003</td>\n",
       "      <td>3.244940</td>\n",
       "      <td>2.340356</td>\n",
       "      <td>NaN</td>\n",
       "      <td>2.387342e-11</td>\n",
       "      <td>2.408736e-12</td>\n",
       "      <td>6.806950e-11</td>\n",
       "      <td>-3.563309e-11</td>\n",
       "      <td>-8.939301e-12</td>\n",
       "      <td>8.310596e-11</td>\n",
       "      <td>5.061841e-11</td>\n",
       "      <td>-1.473947e-11</td>\n",
       "      <td>-1.500741e-10</td>\n",
       "      <td>8.045720e-13</td>\n",
       "    </tr>\n",
       "    <tr>\n",
       "      <th>std</th>\n",
       "      <td>47339.113634</td>\n",
       "      <td>0.394338</td>\n",
       "      <td>0.667526</td>\n",
       "      <td>9.971926</td>\n",
       "      <td>0.667526</td>\n",
       "      <td>2.267289</td>\n",
       "      <td>0.504086</td>\n",
       "      <td>NaN</td>\n",
       "      <td>1.000000e+00</td>\n",
       "      <td>1.000000e+00</td>\n",
       "      <td>1.000000e+00</td>\n",
       "      <td>1.000000e+00</td>\n",
       "      <td>1.000000e+00</td>\n",
       "      <td>1.000000e+00</td>\n",
       "      <td>1.000000e+00</td>\n",
       "      <td>1.000000e+00</td>\n",
       "      <td>1.000000e+00</td>\n",
       "      <td>1.000000e+00</td>\n",
       "    </tr>\n",
       "    <tr>\n",
       "      <th>min</th>\n",
       "      <td>10001.000000</td>\n",
       "      <td>0.000000</td>\n",
       "      <td>1.000000</td>\n",
       "      <td>1.000000</td>\n",
       "      <td>1.000000</td>\n",
       "      <td>1.000000</td>\n",
       "      <td>1.000000</td>\n",
       "      <td>NaN</td>\n",
       "      <td>-1.767456e+00</td>\n",
       "      <td>-3.921962e-01</td>\n",
       "      <td>-2.119639e+00</td>\n",
       "      <td>-1.621390e+00</td>\n",
       "      <td>-1.907046e+00</td>\n",
       "      <td>-1.587129e+00</td>\n",
       "      <td>-2.224451e+00</td>\n",
       "      <td>-2.164541e+00</td>\n",
       "      <td>-5.164956e-01</td>\n",
       "      <td>-2.058862e+00</td>\n",
       "    </tr>\n",
       "    <tr>\n",
       "      <th>25%</th>\n",
       "      <td>50997.500000</td>\n",
       "      <td>0.000000</td>\n",
       "      <td>2.000000</td>\n",
       "      <td>3.000000</td>\n",
       "      <td>2.000000</td>\n",
       "      <td>2.000000</td>\n",
       "      <td>2.000000</td>\n",
       "      <td>NaN</td>\n",
       "      <td>-6.595203e-01</td>\n",
       "      <td>-3.921962e-01</td>\n",
       "      <td>-7.380602e-01</td>\n",
       "      <td>-7.663281e-01</td>\n",
       "      <td>-6.840838e-01</td>\n",
       "      <td>-7.667612e-01</td>\n",
       "      <td>-7.212383e-01</td>\n",
       "      <td>-7.235035e-01</td>\n",
       "      <td>-5.164956e-01</td>\n",
       "      <td>-7.471426e-01</td>\n",
       "    </tr>\n",
       "    <tr>\n",
       "      <th>50%</th>\n",
       "      <td>91994.000000</td>\n",
       "      <td>0.000000</td>\n",
       "      <td>3.000000</td>\n",
       "      <td>8.000000</td>\n",
       "      <td>3.000000</td>\n",
       "      <td>2.000000</td>\n",
       "      <td>2.000000</td>\n",
       "      <td>NaN</td>\n",
       "      <td>-2.225562e-01</td>\n",
       "      <td>-3.921962e-01</td>\n",
       "      <td>-2.257573e-02</td>\n",
       "      <td>8.873407e-02</td>\n",
       "      <td>-5.191344e-02</td>\n",
       "      <td>-2.114351e-01</td>\n",
       "      <td>-1.199531e-01</td>\n",
       "      <td>7.707309e-02</td>\n",
       "      <td>-5.164956e-01</td>\n",
       "      <td>-1.350069e-01</td>\n",
       "    </tr>\n",
       "    <tr>\n",
       "      <th>75%</th>\n",
       "      <td>132990.500000</td>\n",
       "      <td>0.000000</td>\n",
       "      <td>3.000000</td>\n",
       "      <td>17.000000</td>\n",
       "      <td>3.000000</td>\n",
       "      <td>3.000000</td>\n",
       "      <td>3.000000</td>\n",
       "      <td>NaN</td>\n",
       "      <td>3.686305e-01</td>\n",
       "      <td>-3.921962e-01</td>\n",
       "      <td>6.955785e-01</td>\n",
       "      <td>1.228817e+00</td>\n",
       "      <td>5.917510e-01</td>\n",
       "      <td>6.215541e-01</td>\n",
       "      <td>4.813321e-01</td>\n",
       "      <td>7.815805e-01</td>\n",
       "      <td>-5.164956e-01</td>\n",
       "      <td>5.645768e-01</td>\n",
       "    </tr>\n",
       "    <tr>\n",
       "      <th>max</th>\n",
       "      <td>173987.000000</td>\n",
       "      <td>1.000000</td>\n",
       "      <td>5.000000</td>\n",
       "      <td>37.000000</td>\n",
       "      <td>5.000000</td>\n",
       "      <td>14.000000</td>\n",
       "      <td>3.000000</td>\n",
       "      <td>NaN</td>\n",
       "      <td>4.618062e+00</td>\n",
       "      <td>4.156695e+00</td>\n",
       "      <td>3.037149e+00</td>\n",
       "      <td>1.228817e+00</td>\n",
       "      <td>2.837680e+00</td>\n",
       "      <td>2.767132e+00</td>\n",
       "      <td>3.143160e+00</td>\n",
       "      <td>3.036350e+00</td>\n",
       "      <td>1.971879e+00</td>\n",
       "      <td>3.068467e+00</td>\n",
       "    </tr>\n",
       "  </tbody>\n",
       "</table>\n",
       "</div>"
      ],
      "text/plain": [
       "                  id       bad_loan  GRP_REP_home_ownership  GRP_addr_state  \\\n",
       "count  163987.000000  163987.000000           163987.000000   163987.000000   \n",
       "mean    91994.000000       0.192595                2.574003       11.409337   \n",
       "std     47339.113634       0.394338                0.667526        9.971926   \n",
       "min     10001.000000       0.000000                1.000000        1.000000   \n",
       "25%     50997.500000       0.000000                2.000000        3.000000   \n",
       "50%     91994.000000       0.000000                3.000000        8.000000   \n",
       "75%    132990.500000       0.000000                3.000000       17.000000   \n",
       "max    173987.000000       1.000000                5.000000       37.000000   \n",
       "\n",
       "       GRP_home_ownership    GRP_purpose  GRP_verification_status  _WARN_  \\\n",
       "count       163987.000000  163987.000000            163987.000000     0.0   \n",
       "mean             2.574003       3.244940                 2.340356     NaN   \n",
       "std              0.667526       2.267289                 0.504086     NaN   \n",
       "min              1.000000       1.000000                 1.000000     NaN   \n",
       "25%              2.000000       2.000000                 2.000000     NaN   \n",
       "50%              3.000000       2.000000                 2.000000     NaN   \n",
       "75%              3.000000       3.000000                 3.000000     NaN   \n",
       "max              5.000000      14.000000                 3.000000     NaN   \n",
       "\n",
       "       STD_IMP_REP_annual_inc  STD_IMP_REP_delinq_2yrs  STD_IMP_REP_dti  \\\n",
       "count            1.639870e+05             1.639870e+05     1.639870e+05   \n",
       "mean             2.387342e-11             2.408736e-12     6.806950e-11   \n",
       "std              1.000000e+00             1.000000e+00     1.000000e+00   \n",
       "min             -1.767456e+00            -3.921962e-01    -2.119639e+00   \n",
       "25%             -6.595203e-01            -3.921962e-01    -7.380602e-01   \n",
       "50%             -2.225562e-01            -3.921962e-01    -2.257573e-02   \n",
       "75%              3.686305e-01            -3.921962e-01     6.955785e-01   \n",
       "max              4.618062e+00             4.156695e+00     3.037149e+00   \n",
       "\n",
       "       STD_IMP_REP_emp_length  STD_IMP_REP_int_rate  STD_IMP_REP_loan_amnt  \\\n",
       "count            1.639870e+05          1.639870e+05           1.639870e+05   \n",
       "mean            -3.563309e-11         -8.939301e-12           8.310596e-11   \n",
       "std              1.000000e+00          1.000000e+00           1.000000e+00   \n",
       "min             -1.621390e+00         -1.907046e+00          -1.587129e+00   \n",
       "25%             -7.663281e-01         -6.840838e-01          -7.667612e-01   \n",
       "50%              8.873407e-02         -5.191344e-02          -2.114351e-01   \n",
       "75%              1.228817e+00          5.917510e-01           6.215541e-01   \n",
       "max              1.228817e+00          2.837680e+00           2.767132e+00   \n",
       "\n",
       "       STD_IMP_REP_longest_credit_lengt  STD_IMP_REP_revol_util  \\\n",
       "count                      1.639870e+05            1.639870e+05   \n",
       "mean                       5.061841e-11           -1.473947e-11   \n",
       "std                        1.000000e+00            1.000000e+00   \n",
       "min                       -2.224451e+00           -2.164541e+00   \n",
       "25%                       -7.212383e-01           -7.235035e-01   \n",
       "50%                       -1.199531e-01            7.707309e-02   \n",
       "75%                        4.813321e-01            7.815805e-01   \n",
       "max                        3.143160e+00            3.036350e+00   \n",
       "\n",
       "       STD_IMP_REP_term_length  STD_IMP_REP_total_acc  \n",
       "count             1.639870e+05           1.639870e+05  \n",
       "mean             -1.500741e-10           8.045720e-13  \n",
       "std               1.000000e+00           1.000000e+00  \n",
       "min              -5.164956e-01          -2.058862e+00  \n",
       "25%              -5.164956e-01          -7.471426e-01  \n",
       "50%              -5.164956e-01          -1.350069e-01  \n",
       "75%              -5.164956e-01           5.645768e-01  \n",
       "max               1.971879e+00           3.068467e+00  "
      ]
     },
     "execution_count": 3,
     "metadata": {},
     "output_type": "execute_result"
    }
   ],
   "source": [
    "# import data using Pandas\n",
    "raw = pd.read_csv(IN_FILE_PATH)\n",
    "raw.describe()"
   ]
  },
  {
   "cell_type": "code",
   "execution_count": 4,
   "metadata": {},
   "outputs": [
    {
     "name": "stdout",
     "output_type": "stream",
     "text": [
      "[-1.01918221 -1.33470843 -1.34732948 ... -0.03158515  1.83948532\n",
      "  0.49534363]\n"
     ]
    }
   ],
   "source": [
    "# select target column\n",
    "y = raw[Y].as_matrix()\n",
    "print(y)"
   ]
  },
  {
   "cell_type": "code",
   "execution_count": 5,
   "metadata": {},
   "outputs": [],
   "source": [
    "# create input matrix\n",
    "# add an additional column of 1's for intercept \n",
    "# by overlaying inputs onto matrix of 1's\n",
    "numeric = raw.drop(DROPS + [Y], axis=1).as_matrix()\n",
    "N, p = numeric.shape\n",
    "X = np.ones(shape=(N, p + 1))\n",
    "X[:,1:] = numeric "
   ]
  },
  {
   "cell_type": "markdown",
   "metadata": {},
   "source": [
    "### Linear Regression by Solving the Normal Equation "
   ]
  },
  {
   "cell_type": "markdown",
   "metadata": {},
   "source": [
    "\\begin{equation}\n",
    "X\\hat{\\beta} = y \n",
    "\\end{equation}\n",
    "\n",
    "\\begin{equation}\n",
    "\\hat{\\beta} = (X^{T}X)^{-1}X^Ty\n",
    "\\end{equation}\n",
    "\n",
    "The normal equation estimates coefficients that globally minimize the squared error between a rectangular input data matrix $X$ and a column vector of target values $y$. I.e. it presents an optimal solution to an underspecified set of linear equations."
   ]
  },
  {
   "cell_type": "code",
   "execution_count": 6,
   "metadata": {},
   "outputs": [
    {
     "name": "stdout",
     "output_type": "stream",
     "text": [
      "Model parameters:\n",
      " [-0.00953184  0.04949174  0.4184344  -0.04237427  0.08966404  0.0301429\n",
      "  0.08011731  0.05023822  0.01554239  0.31239211  0.04139277]\n"
     ]
    }
   ],
   "source": [
    "X_transpose = np.transpose(X)\n",
    "beta_hat = np.linalg.inv(X_transpose.dot(X))\n",
    "beta_hat = beta_hat.dot(X_transpose)\n",
    "beta_hat = beta_hat.dot(y)\n",
    "print('Model parameters:\\n', beta_hat)"
   ]
  },
  {
   "cell_type": "markdown",
   "metadata": {},
   "source": [
    "### Basic Gradient Descent Routines with L2 (\"Ridge\"/\"Tikhonov\") Regularization\n",
    "\\begin{equation}\n",
    "\\hat{\\beta} = \\underset{\\beta}{argmin}\\sum_{i=1}^{N} (y_i - \\beta x_i)^2 + \\lambda\\sum_{j=0}^p \\beta^2_j\n",
    "\\end{equation}"
   ]
  },
  {
   "cell_type": "markdown",
   "metadata": {},
   "source": [
    "#### Define squared loss function\n",
    "* For linear regression, we directly minimize the squared distance between the regression plane and points in the conditional distribution of **y** given **X**.\n",
    "* Direct minimization of the squared loss function is typically preferred to solving the normal equation directly due to numerical stability and scalability issues.\n",
    "* It is convenient to use a scaled mean squared error (MSE) formula:\n",
    "\\begin{equation}\n",
    "\\frac{1}{2N}\\sum_{i=1}^{N} (y_i - \\beta x_i)^2\n",
    "\\end{equation}"
   ]
  },
  {
   "cell_type": "code",
   "execution_count": 7,
   "metadata": {},
   "outputs": [],
   "source": [
    "def squared_loss(n, x, y, betas, lambda_=0):\n",
    "    \n",
    "    \"\"\" Squared loss function for multiple linear regression.\n",
    "    \n",
    "    :param n: Number of rows in x.\n",
    "    :param x: Matrix of numeric inputs.\n",
    "    :param y: Vector of known target values.\n",
    "    :param beta: Vector of current model parameters.\n",
    "    :param lambda_: Scale factor for L2 regularization, default 0.\n",
    "    :return: Scalar MSE value.    \n",
    "    \n",
    "    \"\"\"\n",
    "    \n",
    "    yhat = x.dot(betas)\n",
    "        \n",
    "    return (1 / (2 * n)) * (((y - yhat)**2).sum() + lambda_ * (betas**2).sum())"
   ]
  },
  {
   "cell_type": "markdown",
   "metadata": {},
   "source": [
    "#### Define gradient of loss function\n",
    "* The derivative of the loss function w.r.t the model parameters is used to update model parameters at each gradient descent step.\n",
    "* The gradient of our MSE loss function is trivial:"
   ]
  },
  {
   "cell_type": "code",
   "execution_count": 8,
   "metadata": {},
   "outputs": [],
   "source": [
    "def grad(n, y, yhat, x, beta_j, lambda_=0):\n",
    "    \n",
    "    \"\"\" Analytical gradient of scaled MSE loss function with L2 regularization.\n",
    "    \n",
    "    :param n: Number of rows in X.\n",
    "    :param y: Vector of known target values.\n",
    "    :param yhat: Vector of predicted target values.\n",
    "    :param x: Vector of input values.\n",
    "    :param beta_j: Model parameter for which to calculate gradient.\n",
    "    :param lambda_: Scale factor for L2 regularization, default 0.\n",
    "    :return: Vector of gradient values.\n",
    "    \n",
    "    \"\"\"\n",
    "    \n",
    "    return (1 / n) * (x * (yhat - y) + (lambda_ * beta_j))"
   ]
  },
  {
   "cell_type": "markdown",
   "metadata": {},
   "source": [
    "#### Define function for executing gradient descent minimization\n",
    "For each gradient descent step:\n",
    "* Predictions are made using the current model parameters.\n",
    "* The gradient is calculated for each model pararmeter.\n",
    "* The gradient is used in combination with the learning rate to update each parameter."
   ]
  },
  {
   "cell_type": "code",
   "execution_count": 9,
   "metadata": {},
   "outputs": [],
   "source": [
    "def grad_descent(X, y, learn_rate, max_iters, sgd_mini_batch_n=0, lambda_=0):\n",
    "    \n",
    "    \"\"\" Routine for executing simple gradient descent with stochastic gradient descent option.\n",
    "    \n",
    "    :param X: Matrix of numeric data.\n",
    "    :param y: Vector of known target values.\n",
    "    :param learn_rate: Learning rate.\n",
    "    :param max_iters: Maximum number of gradient descent steps to perform.\n",
    "    :param sgd_mini_batch_n: Minibatch size for sgd optimization.\n",
    "                             If > 0 minibatch stochastic gradient descent is performed.\n",
    "    :param lambda_: Scale factor for L2 regularization, default 0.\n",
    "    \n",
    "    \"\"\"\n",
    "\n",
    "    tic = time.time()               # start timer\n",
    "    n_betas = X.shape[1]            # number of model parameters including bias    \n",
    "    betas = np.zeros(shape=n_betas) # parameters start with value of 0\n",
    "    n = y.shape[0]                  # number of rows in X\n",
    "    \n",
    "    # Pandas dataframe for iteration history\n",
    "    iteration_frame = pd.DataFrame(columns=['Iteration', 'Loss'])\n",
    "\n",
    "    print('Iteration history:')\n",
    "    \n",
    "    # loop for gradient descent steps\n",
    "    for i in range(max_iters):\n",
    "        \n",
    "        # stochastic gradient descent\n",
    "        if sgd_mini_batch_n > 0:\n",
    "            \n",
    "            samp_idx = np.random.randint(n, size=sgd_mini_batch_n)\n",
    "            X_samp = X[samp_idx, :]\n",
    "            y_samp = y[samp_idx]\n",
    "            n_samp = X_samp.shape[0]\n",
    "            yhat_samp = X_samp.dot(betas) # model predictions for iteration\n",
    "\n",
    "            # loop for column-wise parameter updates\n",
    "            for j in range(n_betas):\n",
    "\n",
    "                # select column\n",
    "                # calculate column-wise gradient\n",
    "                # update corresponding parameter based on negative gradient\n",
    "                # calculate loss\n",
    "\n",
    "                xj_samp = X_samp[:, j]\n",
    "                beta_j = betas[j]\n",
    "                xj_grad_samp = grad(n_samp, y_samp, yhat_samp, xj_samp, beta_j, lambda_)\n",
    "                betas[j] = betas[j] - learn_rate * xj_grad_samp.sum()\n",
    "                iter_loss = squared_loss(n_samp, X_samp, y_samp, betas, lambda_)\n",
    "        \n",
    "        # standard gradient descent\n",
    "        else:\n",
    "            \n",
    "            yhat = X.dot(betas) # model predictions for iteration\n",
    "\n",
    "            # loop for column-wise parameter updates\n",
    "            for j in range(n_betas):\n",
    "                xj = X[:, j]\n",
    "                beta_j = betas[j]\n",
    "                xj_grad = grad(n, y, yhat, xj, beta_j, lambda_)\n",
    "                betas[j] = betas[j] - learn_rate * xj_grad.sum()\n",
    "                iter_loss = squared_loss(n, X, y, betas, lambda_)\n",
    "        \n",
    "        # update loss history\n",
    "        iteration_frame = iteration_frame.append({'Iteration': i,\n",
    "                                                  'Loss':  iter_loss}, \n",
    "                                                  ignore_index=True)        \n",
    "        # progress indicator \n",
    "        if i % 1000 == 0:\n",
    "            print('iter=%d loss=%.6f' % (i, iter_loss))\n",
    "        \n",
    "        # convergence check\n",
    "        if i > 0:\n",
    "            if np.abs(iteration_frame.iat[i-1, 1] - iteration_frame.iat[i, 1]) < CONV:\n",
    "                break\n",
    "\n",
    "    # output \n",
    "    %matplotlib inline\n",
    "    iteration_frame.plot.line(title='Iteration Plot', x='Iteration', y='Loss')\n",
    "    print()           \n",
    "    print('Model parameters at iteration ' + str(i) + ':')\n",
    "    print(betas)\n",
    "    print()\n",
    "    print('Model trained in %.2f s.' % (time.time()-tic))\n"
   ]
  },
  {
   "cell_type": "markdown",
   "metadata": {},
   "source": [
    "#### Execute gradient descent"
   ]
  },
  {
   "cell_type": "code",
   "execution_count": 10,
   "metadata": {},
   "outputs": [
    {
     "name": "stdout",
     "output_type": "stream",
     "text": [
      "Iteration history:\n",
      "iter=0 loss=0.472967\n",
      "\n",
      "Model parameters at iteration 709:\n",
      "[-0.00946269  0.04918263  0.41842662 -0.04237465  0.08967229  0.03014185\n",
      "  0.08014273  0.05024078  0.01554251  0.3123994   0.04138562]\n",
      "\n",
      "Model trained in 19.11 s.\n"
     ]
    },
    {
     "data": {
      "image/png": "[encoded data removed]",
      "text/plain": [
       "<matplotlib.figure.Figure at 0x7fadf8aeffd0>"
      ]
     },
     "metadata": {},
     "output_type": "display_data"
    }
   ],
   "source": [
    "grad_descent(X, y, LEARN_RATE, MAX_ITERS)"
   ]
  },
  {
   "cell_type": "markdown",
   "metadata": {},
   "source": [
    "#### Execute L2 penalized gradient descent"
   ]
  },
  {
   "cell_type": "code",
   "execution_count": 11,
   "metadata": {},
   "outputs": [
    {
     "name": "stdout",
     "output_type": "stream",
     "text": [
      "Iteration history:\n",
      "iter=0 loss=0.472967\n",
      "\n",
      "Model parameters at iteration 962:\n",
      "[-0.00887026  0.04652247  0.41326281 -0.04186768  0.08725817  0.03035732\n",
      "  0.08097103  0.050572    0.01624763  0.30948716  0.04325793]\n",
      "\n",
      "Model trained in 27.56 s.\n"
     ]
    },
    {
     "data": {
      "image/png": "[encoded data removed]",
      "text/plain": [
       "<matplotlib.figure.Figure at 0x7fadf87679b0>"
      ]
     },
     "metadata": {},
     "output_type": "display_data"
    }
   ],
   "source": [
    "grad_descent(X, y, LEARN_RATE, MAX_ITERS, lambda_=0.01)"
   ]
  },
  {
   "cell_type": "markdown",
   "metadata": {},
   "source": [
    "#### Execute stochastic gradient descent"
   ]
  },
  {
   "cell_type": "code",
   "execution_count": 12,
   "metadata": {},
   "outputs": [
    {
     "name": "stdout",
     "output_type": "stream",
     "text": [
      "Iteration history:\n",
      "iter=0 loss=0.508994\n",
      "iter=1000 loss=0.353958\n",
      "iter=2000 loss=0.329552\n",
      "iter=3000 loss=0.294881\n",
      "iter=4000 loss=0.328536\n",
      "iter=5000 loss=0.356125\n",
      "iter=6000 loss=0.289613\n",
      "iter=7000 loss=0.346587\n",
      "iter=8000 loss=0.330513\n",
      "iter=9000 loss=0.327531\n",
      "\n",
      "Model parameters at iteration 9999:\n",
      "[-0.01223376  0.05182728  0.41063956 -0.04170199  0.0856654   0.02781728\n",
      "  0.08272001  0.04593188  0.00757939  0.31243454  0.03695308]\n",
      "\n",
      "Model trained in 15.78 s.\n"
     ]
    },
    {
     "data": {
      "image/png": "[encoded data removed]",
      "text/plain": [
       "<matplotlib.figure.Figure at 0x7fadf86ca588>"
      ]
     },
     "metadata": {},
     "output_type": "display_data"
    }
   ],
   "source": [
    "grad_descent(X, y, LEARN_RATE, MAX_ITERS, sgd_mini_batch_n=1000)"
   ]
  },
  {
   "cell_type": "markdown",
   "metadata": {},
   "source": [
    "#### Execute L2 penalized stochastic gradient descent"
   ]
  },
  {
   "cell_type": "code",
   "execution_count": 13,
   "metadata": {},
   "outputs": [
    {
     "name": "stdout",
     "output_type": "stream",
     "text": [
      "Iteration history:\n",
      "iter=0 loss=0.461673\n",
      "iter=1000 loss=0.329070\n",
      "iter=2000 loss=0.343811\n",
      "iter=3000 loss=0.327983\n",
      "iter=4000 loss=0.312636\n",
      "iter=5000 loss=0.305115\n",
      "iter=6000 loss=0.331027\n",
      "iter=7000 loss=0.327247\n",
      "iter=8000 loss=0.315605\n",
      "iter=9000 loss=0.299981\n",
      "\n",
      "Model parameters at iteration 9999:\n",
      "[-0.01053456  0.04711783  0.41437448 -0.03713669  0.08668208  0.02662558\n",
      "  0.0852053   0.04509276  0.0109407   0.31120157  0.03936369]\n",
      "\n",
      "Model trained in 14.53 s.\n"
     ]
    },
    {
     "data": {
      "image/png": "[encoded data removed]",
      "text/plain": [
       "<matplotlib.figure.Figure at 0x7fadf877f438>"
      ]
     },
     "metadata": {},
     "output_type": "display_data"
    }
   ],
   "source": [
    "grad_descent(X, y, LEARN_RATE, MAX_ITERS, lambda_=0.01, sgd_mini_batch_n=1000)"
   ]
  },
  {
   "cell_type": "markdown",
   "metadata": {},
   "source": [
    "### Use h2o to check model parameters"
   ]
  },
  {
   "cell_type": "code",
   "execution_count": 14,
   "metadata": {},
   "outputs": [
    {
     "name": "stdout",
     "output_type": "stream",
     "text": [
      "Checking whether there is an H2O instance running at http://localhost:54321..... not found.\n",
      "Attempting to start a local H2O server...\n",
      "  Java Version: java version \"1.8.0_171\"; Java(TM) SE Runtime Environment (build 1.8.0_171-b11); Java HotSpot(TM) 64-Bit Server VM (build 25.171-b11, mixed mode)\n",
      "  Starting server from /home/patrickh/anaconda3/lib/python3.6/site-packages/h2o/backend/bin/h2o.jar\n",
      "  Ice root: /tmp/tmpfk6et3so\n",
      "  JVM stdout: /tmp/tmpfk6et3so/h2o_patrickh_started_from_python.out\n",
      "  JVM stderr: /tmp/tmpfk6et3so/h2o_patrickh_started_from_python.err\n",
      "  Server is running at http://127.0.0.1:54321\n",
      "Connecting to H2O server at http://127.0.0.1:54321... successful.\n",
      "Warning: Your H2O cluster version is too old (3 months and 14 days)! Please download and install the latest version from http://h2o.ai/download/\n"
     ]
    },
    {
     "data": {
      "text/html": [
       "<div style=\"overflow:auto\"><table style=\"width:50%\"><tr><td>H2O cluster uptime:</td>\n",
       "<td>01 secs</td></tr>\n",
       "<tr><td>H2O cluster timezone:</td>\n",
       "<td>America/New_York</td></tr>\n",
       "<tr><td>H2O data parsing timezone:</td>\n",
       "<td>UTC</td></tr>\n",
       "<tr><td>H2O cluster version:</td>\n",
       "<td>3.18.0.2</td></tr>\n",
       "<tr><td>H2O cluster version age:</td>\n",
       "<td>3 months and 14 days !!!</td></tr>\n",
       "<tr><td>H2O cluster name:</td>\n",
       "<td>H2O_from_python_patrickh_2x3z4e</td></tr>\n",
       "<tr><td>H2O cluster total nodes:</td>\n",
       "<td>1</td></tr>\n",
       "<tr><td>H2O cluster free memory:</td>\n",
       "<td>3.422 Gb</td></tr>\n",
       "<tr><td>H2O cluster total cores:</td>\n",
       "<td>8</td></tr>\n",
       "<tr><td>H2O cluster allowed cores:</td>\n",
       "<td>8</td></tr>\n",
       "<tr><td>H2O cluster status:</td>\n",
       "<td>accepting new members, healthy</td></tr>\n",
       "<tr><td>H2O connection url:</td>\n",
       "<td>http://127.0.0.1:54321</td></tr>\n",
       "<tr><td>H2O connection proxy:</td>\n",
       "<td>None</td></tr>\n",
       "<tr><td>H2O internal security:</td>\n",
       "<td>False</td></tr>\n",
       "<tr><td>H2O API Extensions:</td>\n",
       "<td>XGBoost, Algos, AutoML, Core V3, Core V4</td></tr>\n",
       "<tr><td>Python version:</td>\n",
       "<td>3.6.4 final</td></tr></table></div>"
      ],
      "text/plain": [
       "--------------------------  ----------------------------------------\n",
       "H2O cluster uptime:         01 secs\n",
       "H2O cluster timezone:       America/New_York\n",
       "H2O data parsing timezone:  UTC\n",
       "H2O cluster version:        3.18.0.2\n",
       "H2O cluster version age:    3 months and 14 days !!!\n",
       "H2O cluster name:           H2O_from_python_patrickh_2x3z4e\n",
       "H2O cluster total nodes:    1\n",
       "H2O cluster free memory:    3.422 Gb\n",
       "H2O cluster total cores:    8\n",
       "H2O cluster allowed cores:  8\n",
       "H2O cluster status:         accepting new members, healthy\n",
       "H2O connection url:         http://127.0.0.1:54321\n",
       "H2O connection proxy:\n",
       "H2O internal security:      False\n",
       "H2O API Extensions:         XGBoost, Algos, AutoML, Core V3, Core V4\n",
       "Python version:             3.6.4 final\n",
       "--------------------------  ----------------------------------------"
      ]
     },
     "metadata": {},
     "output_type": "display_data"
    },
    {
     "name": "stdout",
     "output_type": "stream",
     "text": [
      "Parse progress: |█████████████████████████████████████████████████████████| 100%\n",
      "glm Model Build progress: |███████████████████████████████████████████████| 100%\n",
      "\n",
      "Model parameters:\n",
      "Intercept -0.009531837795372164\n",
      "bad_loan 0.049491736160435965\n",
      "STD_IMP_REP_annual_inc 0.41843440383338865\n",
      "STD_IMP_REP_delinq_2yrs -0.04237426505134888\n",
      "STD_IMP_REP_dti 0.08966404330351394\n",
      "STD_IMP_REP_emp_length 0.030142903020478125\n",
      "STD_IMP_REP_int_rate 0.08011731349769513\n",
      "STD_IMP_REP_longest_credit_lengt 0.05023821933458795\n",
      "STD_IMP_REP_revol_util 0.015542387042639218\n",
      "STD_IMP_REP_term_length 0.31239210762608416\n",
      "STD_IMP_REP_total_acc 0.04139276773790677\n",
      "\n",
      "H2O session _sid_84a9 closed.\n"
     ]
    }
   ],
   "source": [
    "# start h2o\n",
    "h2o.init()\n",
    "\n",
    "DROPS = ['id', 'GRP_REP_home_ownership', 'GRP_addr_state', 'GRP_home_ownership',\n",
    "         'GRP_purpose', 'GRP_verification_status', '_WARN_']\n",
    "\n",
    "# numeric columns \n",
    "train = h2o.import_file(IN_FILE_PATH)\n",
    "train = train.drop(DROPS)\n",
    "X = train.col_names\n",
    "\n",
    "# initialize non-penalized GLM model\n",
    "loan_glm = H2OGeneralizedLinearEstimator(family='gaussian',      # uses squared error\n",
    "                                         solver='IRLSM',         # necessary for non-penalized GLM\n",
    "                                         standardize=False,      # data is already standardized\n",
    "                                         compute_p_values=True,  # necessary for non-penalized GLM \n",
    "                                         lambda_=0)              # necessary for non-penalized GLM\n",
    "\n",
    "# train \n",
    "loan_glm.train(train.col_names, Y, training_frame=train)\n",
    "\n",
    "# print trained model info\n",
    "print() \n",
    "print('Model parameters:')\n",
    "for name, val in loan_glm.coef().items():\n",
    "    print(name, val)\n",
    "print()\n",
    "\n",
    "# shutdown h2o\n",
    "h2o.cluster().shutdown()"
   ]
  }
 ],
 "metadata": {
  "anaconda-cloud": {},
  "kernelspec": {
   "display_name": "Python 3",
   "language": "python",
   "name": "python3"
  },
  "language_info": {
   "codemirror_mode": {
    "name": "ipython",
    "version": 3
   },
   "file_extension": ".py",
   "mimetype": "text/x-python",
   "name": "python",
   "nbconvert_exporter": "python",
   "pygments_lexer": "ipython3",
   "version": "3.6.4"
  }
 },
 "nbformat": 4,
 "nbformat_minor": 2
}
