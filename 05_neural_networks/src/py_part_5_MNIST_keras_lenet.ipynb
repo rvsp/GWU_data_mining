{
 "cells": [
  {
   "cell_type": "code",
   "execution_count": 1,
   "metadata": {},
   "outputs": [],
   "source": [
    "import os\n",
    "path = os.path.dirname(os.getcwd())"
   ]
  },
  {
   "cell_type": "markdown",
   "metadata": {},
   "source": [
    "# MNIST Data"
   ]
  },
  {
   "cell_type": "code",
   "execution_count": 2,
   "metadata": {},
   "outputs": [],
   "source": [
    "import pandas as pd"
   ]
  },
  {
   "cell_type": "code",
   "execution_count": 5,
   "metadata": {},
   "outputs": [],
   "source": [
    "pd_train_data = pd.read_csv(path + os.sep + \"data/train.csv\") # must clone and unzip!\n",
    "pd_test_data = pd.read_csv(path + os.sep + \"data/test.csv\") # must clone and unzip!"
   ]
  },
  {
   "cell_type": "code",
   "execution_count": 6,
   "metadata": {},
   "outputs": [],
   "source": [
    "train_data = pd_train_data.as_matrix()\n",
    "test_data = pd_test_data.as_matrix()"
   ]
  },
  {
   "cell_type": "code",
   "execution_count": 7,
   "metadata": {},
   "outputs": [],
   "source": [
    "x_train = train_data[:,0:784]\n",
    "y_train = train_data[:,784]"
   ]
  },
  {
   "cell_type": "code",
   "execution_count": 8,
   "metadata": {},
   "outputs": [],
   "source": [
    "x_test = test_data[:,0:784]\n",
    "y_test = test_data[:,784]"
   ]
  },
  {
   "cell_type": "code",
   "execution_count": 9,
   "metadata": {},
   "outputs": [],
   "source": [
    "x_train = x_train.reshape(x_train.shape[0], 28, 28, 1).astype('float32')\n",
    "x_test = x_test.reshape(x_test.shape[0], 28, 28, 1).astype('float32')"
   ]
  },
  {
   "cell_type": "code",
   "execution_count": 10,
   "metadata": {},
   "outputs": [],
   "source": [
    "# Normalize data\n",
    "x_train /= 255\n",
    "x_test /= 255"
   ]
  },
  {
   "cell_type": "code",
   "execution_count": 11,
   "metadata": {},
   "outputs": [
    {
     "name": "stderr",
     "output_type": "stream",
     "text": [
      "/home/patrickh/anaconda3/lib/python3.6/site-packages/h5py/__init__.py:36: FutureWarning: Conversion of the second argument of issubdtype from `float` to `np.floating` is deprecated. In future, it will be treated as `np.float64 == np.dtype(float).type`.\n",
      "  from ._conv import register_converters as _register_converters\n",
      "Using TensorFlow backend.\n"
     ]
    }
   ],
   "source": [
    "from keras.utils import np_utils\n",
    "y_train = np_utils.to_categorical(y_train)\n",
    "y_test = np_utils.to_categorical(y_test)\n",
    "num_classes = y_test.shape[1]"
   ]
  },
  {
   "cell_type": "markdown",
   "metadata": {},
   "source": [
    "# Build Model"
   ]
  },
  {
   "cell_type": "code",
   "execution_count": 12,
   "metadata": {},
   "outputs": [],
   "source": [
    "import keras\n",
    "from keras.models import Sequential\n",
    "from keras.layers import Conv2D, MaxPooling2D, Activation, Flatten, Dense"
   ]
  },
  {
   "cell_type": "code",
   "execution_count": 13,
   "metadata": {
    "scrolled": true
   },
   "outputs": [],
   "source": [
    "model = Sequential()"
   ]
  },
  {
   "cell_type": "code",
   "execution_count": 14,
   "metadata": {
    "scrolled": false
   },
   "outputs": [],
   "source": [
    "# Convolution and pooling 1\n",
    "model.add(Conv2D(filters=6, kernel_size=(2,2), input_shape=(28,28,1)))\n",
    "model.add(MaxPooling2D(pool_size=2))\n",
    "model.add(Activation(\"sigmoid\"))\n",
    "\n",
    "# Convolution and pooling 2\n",
    "model.add(Conv2D(filters=16, kernel_size=(5,5)))\n",
    "model.add(MaxPooling2D(pool_size=2))\n",
    "model.add(Activation(\"sigmoid\"))\n",
    "\n",
    "# Convolution 3\n",
    "model.add(Conv2D(filters=120, kernel_size=(4,4)))\n",
    "\n",
    "# Fully-Connected\n",
    "model.add(Flatten())\n",
    "model.add(Dense(84))\n",
    "model.add(Activation(\"tanh\"))\n",
    "\n",
    "# Output layer\n",
    "model.add(Dense(10))\n",
    "model.add(Activation('softmax'))"
   ]
  },
  {
   "cell_type": "code",
   "execution_count": 15,
   "metadata": {},
   "outputs": [],
   "source": [
    "model.compile(loss=\"categorical_crossentropy\", optimizer=\"sgd\", metrics=[\"accuracy\"])"
   ]
  },
  {
   "cell_type": "code",
   "execution_count": 16,
   "metadata": {},
   "outputs": [
    {
     "name": "stdout",
     "output_type": "stream",
     "text": [
      "Epoch 1/20\n",
      "60000/60000 [==============================] - 9s 145us/step - loss: 2.3032 - acc: 0.1104\n",
      "Epoch 2/20\n",
      "60000/60000 [==============================] - 9s 146us/step - loss: 2.3018 - acc: 0.1114\n",
      "Epoch 3/20\n",
      "60000/60000 [==============================] - 9s 152us/step - loss: 2.3008 - acc: 0.1129\n",
      "Epoch 4/20\n",
      "60000/60000 [==============================] - 9s 151us/step - loss: 2.2995 - acc: 0.1176\n",
      "Epoch 5/20\n",
      "60000/60000 [==============================] - 9s 154us/step - loss: 2.2970 - acc: 0.1242\n",
      "Epoch 6/20\n",
      "60000/60000 [==============================] - 11s 190us/step - loss: 2.2939 - acc: 0.1305\n",
      "Epoch 7/20\n",
      "60000/60000 [==============================] - 12s 203us/step - loss: 2.2885 - acc: 0.1375\n",
      "Epoch 8/20\n",
      "60000/60000 [==============================] - 11s 180us/step - loss: 2.2789 - acc: 0.1586\n",
      "Epoch 9/20\n",
      "60000/60000 [==============================] - 8s 135us/step - loss: 2.2578 - acc: 0.2244\n",
      "Epoch 10/20\n",
      "60000/60000 [==============================] - 9s 156us/step - loss: 2.1977 - acc: 0.3456\n",
      "Epoch 11/20\n",
      "60000/60000 [==============================] - 9s 148us/step - loss: 1.9397 - acc: 0.5439\n",
      "Epoch 12/20\n",
      "60000/60000 [==============================] - 9s 151us/step - loss: 1.2247 - acc: 0.7283\n",
      "Epoch 13/20\n",
      "60000/60000 [==============================] - 9s 150us/step - loss: 0.7466 - acc: 0.8088\n",
      "Epoch 14/20\n",
      "60000/60000 [==============================] - 9s 146us/step - loss: 0.5740 - acc: 0.8417\n",
      "Epoch 15/20\n",
      "60000/60000 [==============================] - 9s 151us/step - loss: 0.4883 - acc: 0.8618\n",
      "Epoch 16/20\n",
      "60000/60000 [==============================] - 9s 148us/step - loss: 0.4331 - acc: 0.8764\n",
      "Epoch 17/20\n",
      "60000/60000 [==============================] - 10s 173us/step - loss: 0.3927 - acc: 0.8861\n",
      "Epoch 18/20\n",
      "60000/60000 [==============================] - 9s 147us/step - loss: 0.3610 - acc: 0.8948\n",
      "Epoch 19/20\n",
      "60000/60000 [==============================] - 9s 149us/step - loss: 0.3356 - acc: 0.9022\n",
      "Epoch 20/20\n",
      "60000/60000 [==============================] - 10s 173us/step - loss: 0.3140 - acc: 0.9083\n"
     ]
    },
    {
     "data": {
      "text/plain": [
       "<keras.callbacks.History at 0x7f0781359588>"
      ]
     },
     "execution_count": 16,
     "metadata": {},
     "output_type": "execute_result"
    }
   ],
   "source": [
    "model.fit(x_train, y_train, epochs=20, batch_size=128)"
   ]
  },
  {
   "cell_type": "code",
   "execution_count": 17,
   "metadata": {},
   "outputs": [
    {
     "name": "stdout",
     "output_type": "stream",
     "text": [
      "10000/10000 [==============================] - 1s 64us/step\n"
     ]
    },
    {
     "data": {
      "text/plain": [
       "[0.2853667983055115, 0.9188]"
      ]
     },
     "execution_count": 17,
     "metadata": {},
     "output_type": "execute_result"
    }
   ],
   "source": [
    "model.evaluate(x_test, y_test, batch_size=128)"
   ]
  }
 ],
 "metadata": {
  "anaconda-cloud": {},
  "kernelspec": {
   "display_name": "Python 3",
   "language": "python",
   "name": "python3"
  },
  "language_info": {
   "codemirror_mode": {
    "name": "ipython",
    "version": 3
   },
   "file_extension": ".py",
   "mimetype": "text/x-python",
   "name": "python",
   "nbconvert_exporter": "python",
   "pygments_lexer": "ipython3",
   "version": "3.6.4"
  }
 },
 "nbformat": 4,
 "nbformat_minor": 1
}
